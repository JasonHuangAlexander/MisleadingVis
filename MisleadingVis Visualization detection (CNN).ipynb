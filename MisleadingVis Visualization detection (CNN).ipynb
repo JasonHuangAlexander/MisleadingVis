{
 "cells": [
  {
   "cell_type": "code",
   "execution_count": null,
   "id": "2506a768",
   "metadata": {},
   "outputs": [],
   "source": [
    "#given an image, identify the type of visualization"
   ]
  },
  {
   "cell_type": "code",
   "execution_count": 3,
   "id": "35f29c0d",
   "metadata": {},
   "outputs": [],
   "source": [
    "import tensorflow as tf\n",
    "import numpy as np\n",
    "from tensorflow.keras import layers, models, Sequential\n",
    "from tensorflow.keras.layers import Dense, Conv2D, MaxPooling2D, Flatten, Dropout\n",
    "from PIL import Image, ImageOps\n",
    "import pprint\n",
    "import os"
   ]
  },
  {
   "cell_type": "code",
   "execution_count": 4,
   "id": "5f8613fe",
   "metadata": {},
   "outputs": [],
   "source": [
    "def load_data(directories,X):\n",
    "    count = 0\n",
    "    for directory in directories:\n",
    "        for filename in os.listdir(directory):\n",
    "            f = os.path.join(directory, filename)\n",
    "            if os.path.isfile(f):\n",
    "                training_image = Image.open(f)\n",
    "                training_image = training_image.resize((300,300)) \n",
    "                for i in range(300):\n",
    "                    for j in range(300):\n",
    "                        pixel = training_image.getpixel((i, j))\n",
    "                        #print(pixel)\n",
    "                        pixel_new = (pixel[0])\n",
    "                        if pixel_new == 255 or pixel_new == 255.0:\n",
    "                            pixel_new = 0\n",
    "                        X[count][i][j] = pixel_new \n",
    "                       # print(pixel_new)\n",
    "                count+=1\n",
    "    return X\n",
    "           # training_image.show()"
   ]
  },
  {
   "cell_type": "code",
   "execution_count": 13,
   "id": "86972054",
   "metadata": {
    "scrolled": true
   },
   "outputs": [],
   "source": [
    "X = np.zeros((107,300,300)) \n",
    "directories = [r\"C:\\Users\\local1\\sarvghad visualizations\\CNN_1bar\",\n",
    "               r\"C:\\Users\\local1\\sarvghad visualizations\\CNN_2bar\",\n",
    "               r\"C:\\Users\\local1\\sarvghad visualizations\\CNN_1line\",\n",
    "               r\"C:\\Users\\local1\\sarvghad visualizations\\CNN_2line\"\n",
    "              ]\n",
    "X = load_data(directories,X)\n",
    "y = [0,0,0,0,0,0,0,0,0,0,0,0,0,0,0,0,0,0,0,0,0,0,0,0,0,0,#1bar\n",
    "     0,0,0,0,0,0,0,0,0,0,0,0,0,0,0,0,0,0,0,0,0,0,0,0,0,0,0,0,0,0,0,0,#2bar\n",
    "     1,1,1,1,1,1,1,1,1,1,1,1,1,1,1,1,1,1,1,1,1,1,1,1,1,#1line\n",
    "     1,1,1,1,1,1,1,1,1,1,1,1,1,1,1,1,1,1,1,1,1,1,1,1#2line\n",
    "    ]\n",
    "y=np.array(y)"
   ]
  },
  {
   "cell_type": "code",
   "execution_count": 6,
   "id": "32488797",
   "metadata": {},
   "outputs": [
    {
     "data": {
      "text/plain": [
       "9630000"
      ]
     },
     "execution_count": 6,
     "metadata": {},
     "output_type": "execute_result"
    }
   ],
   "source": [
    "#pprint.pprint(X[0][0])\n",
    "X.size\n",
    "#print(len(X[0][150]))"
   ]
  },
  {
   "cell_type": "code",
   "execution_count": 14,
   "id": "2f5faea1",
   "metadata": {},
   "outputs": [],
   "source": [
    "X = tf.expand_dims(X, axis=-1)"
   ]
  },
  {
   "cell_type": "code",
   "execution_count": 15,
   "id": "bf0d74db",
   "metadata": {},
   "outputs": [],
   "source": [
    "model = Sequential([\n",
    "    Conv2D(filters=32,kernel_size=(3,3), activation='relu',name=\"convLayer1\"),\n",
    "    MaxPooling2D(pool_size=(2,2)),\n",
    "\n",
    "    Conv2D(filters=32,kernel_size=(3,3), activation='relu',name=\"convLayer2\"),\n",
    "    MaxPooling2D(pool_size=(2,2)),\n",
    "    Dropout(0.15),\n",
    "\n",
    "    Conv2D(filters=64,kernel_size=(3,3), activation='relu',name=\"convLayer3\"),\n",
    "    MaxPooling2D(pool_size=(2,2)),\n",
    "    Dropout(0.15),\n",
    "\n",
    "    Flatten(),\n",
    "    Dense(128, activation='relu',name=\"relu1\"),\n",
    "    Dropout(0.15),\n",
    "    Dense(64, activation='relu',name=\"relu2\"),\n",
    "    Dropout(0.15),\n",
    "    Dense(32, activation='relu',name=\"relu3\"),\n",
    "    Dropout(0.15),\n",
    "    Dense(2, activation='softmax',name=\"softmax1\")\n",
    "])"
   ]
  },
  {
   "cell_type": "code",
   "execution_count": 17,
   "id": "a6faa8d4",
   "metadata": {},
   "outputs": [],
   "source": [
    "model.compile(loss=tf.keras.losses.SparseCategoricalCrossentropy(),\n",
    "              metrics=['accuracy'],\n",
    "              optimizer=tf.keras.optimizers.Adam(0.001),\n",
    "             )"
   ]
  },
  {
   "cell_type": "code",
   "execution_count": 18,
   "id": "3abc8063",
   "metadata": {},
   "outputs": [
    {
     "name": "stdout",
     "output_type": "stream",
     "text": [
      "Epoch 1/10\n",
      "4/4 [==============================] - 9s 1s/step - loss: 61.9330 - accuracy: 0.5047\n",
      "Epoch 2/10\n",
      "4/4 [==============================] - 7s 2s/step - loss: 15.7464 - accuracy: 0.5794\n",
      "Epoch 3/10\n",
      "4/4 [==============================] - 6s 2s/step - loss: 6.1310 - accuracy: 0.6729\n",
      "Epoch 4/10\n",
      "4/4 [==============================] - 7s 2s/step - loss: 0.8985 - accuracy: 0.8224\n",
      "Epoch 5/10\n",
      "4/4 [==============================] - 7s 2s/step - loss: 0.4580 - accuracy: 0.8224\n",
      "Epoch 6/10\n",
      "4/4 [==============================] - 6s 2s/step - loss: 0.2025 - accuracy: 0.9252\n",
      "Epoch 7/10\n",
      "4/4 [==============================] - 7s 2s/step - loss: 0.1830 - accuracy: 0.9439\n",
      "Epoch 8/10\n",
      "4/4 [==============================] - 6s 2s/step - loss: 0.1429 - accuracy: 0.9720\n",
      "Epoch 9/10\n",
      "4/4 [==============================] - 6s 2s/step - loss: 0.0717 - accuracy: 0.9720\n",
      "Epoch 10/10\n",
      "4/4 [==============================] - 6s 2s/step - loss: 0.0775 - accuracy: 0.9720\n"
     ]
    },
    {
     "data": {
      "text/plain": [
       "<keras.callbacks.History at 0x200d9cc1460>"
      ]
     },
     "execution_count": 18,
     "metadata": {},
     "output_type": "execute_result"
    }
   ],
   "source": [
    "model.fit(X,y,epochs=10)"
   ]
  },
  {
   "cell_type": "code",
   "execution_count": 19,
   "id": "0e9199f5",
   "metadata": {
    "scrolled": true
   },
   "outputs": [
    {
     "data": {
      "text/plain": [
       "array([[[0., 0., 0., ..., 0., 0., 0.],\n",
       "        [0., 0., 0., ..., 0., 0., 0.],\n",
       "        [0., 0., 0., ..., 0., 0., 0.],\n",
       "        ...,\n",
       "        [0., 0., 0., ..., 0., 0., 0.],\n",
       "        [0., 0., 0., ..., 0., 0., 0.],\n",
       "        [0., 0., 0., ..., 0., 0., 0.]],\n",
       "\n",
       "       [[0., 0., 0., ..., 0., 0., 0.],\n",
       "        [0., 0., 0., ..., 0., 0., 0.],\n",
       "        [0., 0., 0., ..., 0., 0., 0.],\n",
       "        ...,\n",
       "        [0., 0., 0., ..., 0., 0., 0.],\n",
       "        [0., 0., 0., ..., 0., 0., 0.],\n",
       "        [0., 0., 0., ..., 0., 0., 0.]],\n",
       "\n",
       "       [[0., 0., 0., ..., 0., 0., 0.],\n",
       "        [0., 0., 0., ..., 0., 0., 0.],\n",
       "        [0., 0., 0., ..., 0., 0., 0.],\n",
       "        ...,\n",
       "        [0., 0., 0., ..., 0., 0., 0.],\n",
       "        [0., 0., 0., ..., 0., 0., 0.],\n",
       "        [0., 0., 0., ..., 0., 0., 0.]],\n",
       "\n",
       "       ...,\n",
       "\n",
       "       [[0., 0., 0., ..., 0., 0., 0.],\n",
       "        [0., 0., 0., ..., 0., 0., 0.],\n",
       "        [0., 0., 0., ..., 0., 0., 0.],\n",
       "        ...,\n",
       "        [0., 0., 0., ..., 0., 0., 0.],\n",
       "        [0., 0., 0., ..., 0., 0., 0.],\n",
       "        [0., 0., 0., ..., 0., 0., 0.]],\n",
       "\n",
       "       [[0., 0., 0., ..., 0., 0., 0.],\n",
       "        [0., 0., 0., ..., 0., 0., 0.],\n",
       "        [0., 0., 0., ..., 0., 0., 0.],\n",
       "        ...,\n",
       "        [0., 0., 0., ..., 0., 0., 0.],\n",
       "        [0., 0., 0., ..., 0., 0., 0.],\n",
       "        [0., 0., 0., ..., 0., 0., 0.]],\n",
       "\n",
       "       [[0., 0., 0., ..., 0., 0., 0.],\n",
       "        [0., 0., 0., ..., 0., 0., 0.],\n",
       "        [0., 0., 0., ..., 0., 0., 0.],\n",
       "        ...,\n",
       "        [0., 0., 0., ..., 0., 0., 0.],\n",
       "        [0., 0., 0., ..., 0., 0., 0.],\n",
       "        [0., 0., 0., ..., 0., 0., 0.]]])"
      ]
     },
     "execution_count": 19,
     "metadata": {},
     "output_type": "execute_result"
    }
   ],
   "source": [
    "X_test = np.zeros((8,300,300)) \n",
    "test_directories = [\n",
    "                    r\"C:\\Users\\local1\\sarvghad visualizations\\Evaluation Graphs\\COVID-19\\2Line\"\n",
    "                 ]\n",
    "load_data(test_directories,X_test)"
   ]
  },
  {
   "cell_type": "code",
   "execution_count": 20,
   "id": "5e454aab",
   "metadata": {},
   "outputs": [
    {
     "name": "stdout",
     "output_type": "stream",
     "text": [
      "1/1 [==============================] - 0s 404ms/step\n",
      "[[0.2655981  0.7344019 ]\n",
      " [0.03672815 0.9632719 ]\n",
      " [0.11583641 0.88416356]\n",
      " [0.241885   0.75811493]\n",
      " [0.19501273 0.80498725]\n",
      " [0.31903905 0.680961  ]\n",
      " [0.36493325 0.63506675]\n",
      " [0.3815794  0.6184206 ]]\n",
      "line 0.7344019\n",
      "line 0.9632719\n",
      "line 0.88416356\n",
      "line 0.75811493\n",
      "line 0.80498725\n",
      "line 0.680961\n",
      "line 0.63506675\n",
      "line 0.6184206\n"
     ]
    }
   ],
   "source": [
    "a= model.predict(X_test)\n",
    "print(a)\n",
    "predictions = {}\n",
    "for i in range(len(a)):\n",
    "    x = (str(a[i]).split())\n",
    "    for j in x:\n",
    "        if \"]\" in j:\n",
    "            x[(x.index(j))] = j.replace(\"]\",\"\")\n",
    "        if \"[\" in j:\n",
    "            x[(x.index(j))] = j.replace(\"[\",\"\")\n",
    "    for j in x:\n",
    "        if j == \"\":\n",
    "            x.remove(j)\n",
    "        else:\n",
    "            x[(x.index(j))] = float(j)\n",
    "    index = (x.index(max(x)))\n",
    "    if index == 0:\n",
    "        print(\"bar\",max(x))\n",
    "        predictions[i] = \"bar\"\n",
    "    if index == 1:\n",
    "        print(\"line\",max(x))\n",
    "        predictions[i] = \"line\""
   ]
  },
  {
   "cell_type": "code",
   "execution_count": null,
   "id": "aae2f586",
   "metadata": {},
   "outputs": [],
   "source": [
    "#2line detection model\n",
    "X = np.zeros((49,300,300)) \n",
    "directories = [\n",
    "               r\"C:\\Users\\local1\\sarvghad visualizations\\CNN_1line\",\n",
    "               r\"C:\\Users\\local1\\sarvghad visualizations\\CNN_2line\"\n",
    "              ]\n",
    "X = load_data(directories,X)\n",
    "y = [\n",
    "     1,1,1,1,1,1,1,1,1,1,1,1,1,1,1,1,1,1,1,1,1,1,1,1,1,#1line\n",
    "     0,0,0,0,0,0,0,0,0,0,0,0,0,0,0,0,0,0,0,0,0,0,0,0#2line\n",
    "    ]\n",
    "y=np.array(y)\n",
    "X = tf.expand_dims(X, axis=-1)\n",
    "model1 = Sequential([\n",
    "    Conv2D(filters=32,kernel_size=(3,3), activation='relu',name=\"convLayer1\"),\n",
    "    MaxPooling2D(pool_size=(2,2)),\n",
    "\n",
    "    Conv2D(filters=32,kernel_size=(3,3), activation='relu',name=\"convLayer2\"),\n",
    "    MaxPooling2D(pool_size=(2,2)),\n",
    "    Dropout(0.15),\n",
    "\n",
    "    Conv2D(filters=64,kernel_size=(3,3), activation='relu',name=\"convLayer3\"),\n",
    "    MaxPooling2D(pool_size=(2,2)),\n",
    "    Dropout(0.15),\n",
    "\n",
    "    Flatten(),\n",
    "    Dense(128, activation='relu',name=\"relu1\"),\n",
    "    Dropout(0.15),\n",
    "    Dense(64, activation='relu',name=\"relu2\"),\n",
    "    Dropout(0.15),\n",
    "    Dense(32, activation='relu',name=\"relu3\"),\n",
    "    Dropout(0.15),\n",
    "    Dense(2, activation='softmax',name=\"softmax1\")\n",
    "])\n",
    "model.compile(loss=tf.keras.losses.SparseCategoricalCrossentropy(),\n",
    "              metrics=['accuracy'],\n",
    "              optimizer=tf.keras.optimizers.Adam(0.001),\n",
    "             )\n",
    "model.fit(X,y,epochs=10)"
   ]
  },
  {
   "cell_type": "code",
   "execution_count": null,
   "id": "b6b27903",
   "metadata": {},
   "outputs": [],
   "source": [
    "#2bar detection model\n",
    "X = np.zeros((58,300,300)) \n",
    "directories = [r\"C:\\Users\\local1\\sarvghad visualizations\\CNN_1bar\",\n",
    "               r\"C:\\Users\\local1\\sarvghad visualizations\\CNN_2bar\",\n",
    "              ]\n",
    "X = load_data(directories,X)\n",
    "y = [1,1,1,1,1,1,1,1,1,1,1,1,1,1,1,1,1,1,1,1,1,1,1,1,1,1,#1bar\n",
    "     0,0,0,0,0,0,0,0,0,0,0,0,0,0,0,0,0,0,0,0,0,0,0,0,0,0,0,0,0,0,0,0#2bar\n",
    "    ]\n",
    "y=np.array(y)\n",
    "X = tf.expand_dims(X, axis=-1)\n",
    "model2 = Sequential([\n",
    "    Conv2D(filters=32,kernel_size=(3,3), activation='relu',name=\"convLayer1\"),\n",
    "    MaxPooling2D(pool_size=(2,2)),\n",
    "\n",
    "    Conv2D(filters=32,kernel_size=(3,3), activation='relu',name=\"convLayer2\"),\n",
    "    MaxPooling2D(pool_size=(2,2)),\n",
    "    Dropout(0.15),\n",
    "\n",
    "    Conv2D(filters=64,kernel_size=(3,3), activation='relu',name=\"convLayer3\"),\n",
    "    MaxPooling2D(pool_size=(2,2)),\n",
    "    Dropout(0.15),\n",
    "\n",
    "    Flatten(),\n",
    "    Dense(128, activation='relu',name=\"relu1\"),\n",
    "    Dropout(0.15),\n",
    "    Dense(64, activation='relu',name=\"relu2\"),\n",
    "    Dropout(0.15),\n",
    "    Dense(32, activation='relu',name=\"relu3\"),\n",
    "    Dropout(0.15),\n",
    "    Dense(2, activation='softmax',name=\"softmax1\")\n",
    "])\n",
    "model.compile(loss=tf.keras.losses.SparseCategoricalCrossentropy(),\n",
    "              metrics=['accuracy'],\n",
    "              optimizer=tf.keras.optimizers.Adam(0.001),\n",
    "             )\n",
    "model.fit(X,y,epochs=10)"
   ]
  },
  {
   "cell_type": "code",
   "execution_count": 24,
   "id": "b5c85ffb",
   "metadata": {},
   "outputs": [
    {
     "name": "stdout",
     "output_type": "stream",
     "text": [
      "[[0. 0. 0. ... 0. 0. 0.]\n",
      " [0. 0. 0. ... 0. 0. 0.]\n",
      " [0. 0. 0. ... 0. 0. 0.]\n",
      " ...\n",
      " [0. 0. 0. ... 0. 0. 0.]\n",
      " [0. 0. 0. ... 0. 0. 0.]\n",
      " [0. 0. 0. ... 0. 0. 0.]]\n",
      "{0: 'line',\n",
      " 1: 'line',\n",
      " 2: 'line',\n",
      " 3: 'line',\n",
      " 4: 'line',\n",
      " 5: 'line',\n",
      " 6: 'line',\n",
      " 7: 'line'}\n"
     ]
    }
   ],
   "source": [
    "print(X_test[7])\n",
    "pprint.pprint(predictions)"
   ]
  },
  {
   "cell_type": "code",
   "execution_count": 17,
   "id": "c82b43e0",
   "metadata": {},
   "outputs": [
    {
     "name": "stdout",
     "output_type": "stream",
     "text": [
      "{0: 'bar',\n",
      " 1: 'line',\n",
      " 2: 'line',\n",
      " 3: 'line',\n",
      " 4: 'line',\n",
      " 5: 'bar',\n",
      " 6: 'bar',\n",
      " 7: 'line'}\n"
     ]
    }
   ],
   "source": [
    "pprint.pprint(predictions)\n",
    "for key in predictions:\n",
    "    if predictions[key] == \"bar\":\n",
    "        model2.predict(X_test[key])\n",
    "    else if predictions[key] == \"line\":\n",
    "        model1.predict(X_test[key])"
   ]
  }
 ],
 "metadata": {
  "kernelspec": {
   "display_name": "Python 3 (ipykernel)",
   "language": "python",
   "name": "python3"
  },
  "language_info": {
   "codemirror_mode": {
    "name": "ipython",
    "version": 3
   },
   "file_extension": ".py",
   "mimetype": "text/x-python",
   "name": "python",
   "nbconvert_exporter": "python",
   "pygments_lexer": "ipython3",
   "version": "3.9.13"
  }
 },
 "nbformat": 4,
 "nbformat_minor": 5
}
