{
 "cells": [
  {
   "cell_type": "code",
   "execution_count": 1,
   "id": "2506a768",
   "metadata": {},
   "outputs": [],
   "source": [
    "#given an image, identify the type of visualization"
   ]
  },
  {
   "cell_type": "code",
   "execution_count": 27,
   "id": "35f29c0d",
   "metadata": {},
   "outputs": [],
   "source": [
    "import tensorflow as tf\n",
    "import numpy as np\n",
    "from tensorflow.keras import layers, models, Sequential\n",
    "from tensorflow.keras.layers import Dense, Conv2D, MaxPooling2D, Flatten, Dropout\n",
    "from PIL import Image, ImageOps\n",
    "import os"
   ]
  },
  {
   "cell_type": "code",
   "execution_count": 28,
   "id": "5f8613fe",
   "metadata": {},
   "outputs": [],
   "source": [
    "def load_data(directories,X):\n",
    "    count = 0\n",
    "    for directory in directories:\n",
    "        for filename in os.listdir(directory):\n",
    "            f = os.path.join(directory, filename)\n",
    "            if os.path.isfile(f):\n",
    "                training_image = Image.open(f)\n",
    "                training_image = training_image.resize((300,300)) \n",
    "                for i in range(300):\n",
    "                    for j in range(300):\n",
    "                        pixel = training_image.getpixel((i, j))\n",
    "                        pixel_new = (pixel[0]/255.0)\n",
    "                        X[count][i][j] = pixel_new\n",
    "                count+=1\n",
    "           # training_image.show()"
   ]
  },
  {
   "cell_type": "code",
   "execution_count": 29,
   "id": "86972054",
   "metadata": {},
   "outputs": [],
   "source": [
    "X = np.zeros((52,300,300)) \n",
    "directories = [r\"C:\\Users\\local1\\sarvghad visualizations\\CNN_1bar\",\n",
    "               r\"C:\\Users\\local1\\sarvghad visualizations\\CNN_2bar\",\n",
    "               r\"C:\\Users\\local1\\sarvghad visualizations\\CNN_1line\",\n",
    "               r\"C:\\Users\\local1\\sarvghad visualizations\\CNN_2line\"\n",
    "              ]\n",
    "load_data(directories,X)\n",
    "y = [0,0,0,0,0,0,0,0,0,0,0,0,0,\n",
    "     1,1,1,1,1,1,1,1,1,1,1,1,1,\n",
    "     2,2,2,2,2,2,2,2,2,2,2,2,2,\n",
    "     3,3,3,3,3,3,3,3,3,3,3,3,3\n",
    "    ]\n",
    "y=np.array(y)"
   ]
  },
  {
   "cell_type": "code",
   "execution_count": 30,
   "id": "2f5faea1",
   "metadata": {},
   "outputs": [],
   "source": [
    "X = tf.expand_dims(X, axis=-1)"
   ]
  },
  {
   "cell_type": "code",
   "execution_count": 31,
   "id": "bf0d74db",
   "metadata": {},
   "outputs": [],
   "source": [
    "model = Sequential([\n",
    "    Conv2D(filters=32,kernel_size=(3,3), activation='relu',name=\"convLayer1\"),\n",
    "    MaxPooling2D(pool_size=(2,2)),\n",
    "\n",
    "    Conv2D(filters=32,kernel_size=(3,3), activation='relu',name=\"convLayer2\"),\n",
    "    MaxPooling2D(pool_size=(2,2)),\n",
    "    Dropout(0.15),\n",
    "\n",
    "    Conv2D(filters=64,kernel_size=(3,3), activation='relu',name=\"convLayer3\"),\n",
    "    MaxPooling2D(pool_size=(2,2)),\n",
    "    Dropout(0.15),\n",
    "\n",
    "    Flatten(),\n",
    "    Dense(128, activation='relu',name=\"relu1\"),\n",
    "    Dropout(0.15),\n",
    "    Dense(64, activation='relu',name=\"relu2\"),\n",
    "    Dropout(0.15),\n",
    "    Dense(32, activation='relu',name=\"relu3\"),\n",
    "    Dropout(0.15),\n",
    "    Dense(4, activation='softmax',name=\"softmax1\")\n",
    "])"
   ]
  },
  {
   "cell_type": "code",
   "execution_count": 32,
   "id": "a6faa8d4",
   "metadata": {},
   "outputs": [],
   "source": [
    "model.compile(loss=tf.keras.losses.SparseCategoricalCrossentropy(),\n",
    "              metrics=['accuracy'],\n",
    "              optimizer=tf.keras.optimizers.Adam(0.001),\n",
    "             )"
   ]
  },
  {
   "cell_type": "code",
   "execution_count": 33,
   "id": "3abc8063",
   "metadata": {
    "collapsed": true
   },
   "outputs": [
    {
     "name": "stdout",
     "output_type": "stream",
     "text": [
      "Epoch 1/30\n",
      "2/2 [==============================] - 8s 2s/step - loss: 1.9112 - accuracy: 0.1731\n",
      "Epoch 2/30\n",
      "2/2 [==============================] - 4s 2s/step - loss: 1.6931 - accuracy: 0.2692\n",
      "Epoch 3/30\n",
      "2/2 [==============================] - 4s 2s/step - loss: 1.3684 - accuracy: 0.3269\n",
      "Epoch 4/30\n",
      "2/2 [==============================] - 4s 2s/step - loss: 1.3930 - accuracy: 0.2692\n",
      "Epoch 5/30\n",
      "2/2 [==============================] - 4s 2s/step - loss: 1.3759 - accuracy: 0.3654\n",
      "Epoch 6/30\n",
      "2/2 [==============================] - 4s 2s/step - loss: 1.3734 - accuracy: 0.3846\n",
      "Epoch 7/30\n",
      "2/2 [==============================] - 4s 2s/step - loss: 1.3219 - accuracy: 0.6154\n",
      "Epoch 8/30\n",
      "2/2 [==============================] - 5s 2s/step - loss: 1.2916 - accuracy: 0.5000\n",
      "Epoch 9/30\n",
      "2/2 [==============================] - 5s 2s/step - loss: 1.2210 - accuracy: 0.5962\n",
      "Epoch 10/30\n",
      "2/2 [==============================] - 5s 2s/step - loss: 1.1469 - accuracy: 0.6346\n",
      "Epoch 11/30\n",
      "2/2 [==============================] - 5s 2s/step - loss: 1.0164 - accuracy: 0.6731\n",
      "Epoch 12/30\n",
      "2/2 [==============================] - 5s 2s/step - loss: 0.6563 - accuracy: 0.7692\n",
      "Epoch 13/30\n",
      "2/2 [==============================] - 5s 2s/step - loss: 0.5534 - accuracy: 0.8077\n",
      "Epoch 14/30\n",
      "2/2 [==============================] - 5s 2s/step - loss: 0.4543 - accuracy: 0.8654\n",
      "Epoch 15/30\n",
      "2/2 [==============================] - 5s 2s/step - loss: 0.2748 - accuracy: 0.9615\n",
      "Epoch 16/30\n",
      "2/2 [==============================] - 5s 2s/step - loss: 0.4750 - accuracy: 0.8077\n",
      "Epoch 17/30\n",
      "2/2 [==============================] - 5s 2s/step - loss: 0.1933 - accuracy: 0.9231\n",
      "Epoch 18/30\n",
      "2/2 [==============================] - 5s 2s/step - loss: 0.1501 - accuracy: 0.9615\n",
      "Epoch 19/30\n",
      "2/2 [==============================] - 5s 2s/step - loss: 0.0466 - accuracy: 1.0000\n",
      "Epoch 20/30\n",
      "2/2 [==============================] - 5s 2s/step - loss: 0.2916 - accuracy: 0.8846\n",
      "Epoch 21/30\n",
      "2/2 [==============================] - 5s 2s/step - loss: 0.1024 - accuracy: 0.9808\n",
      "Epoch 22/30\n",
      "2/2 [==============================] - 5s 2s/step - loss: 0.0569 - accuracy: 0.9808\n",
      "Epoch 23/30\n",
      "2/2 [==============================] - 5s 2s/step - loss: 0.0279 - accuracy: 1.0000\n",
      "Epoch 24/30\n",
      "2/2 [==============================] - 5s 2s/step - loss: 0.0387 - accuracy: 1.0000\n",
      "Epoch 25/30\n",
      "2/2 [==============================] - 5s 2s/step - loss: 0.0423 - accuracy: 0.9808\n",
      "Epoch 26/30\n",
      "2/2 [==============================] - 4s 2s/step - loss: 0.1472 - accuracy: 0.9615\n",
      "Epoch 27/30\n",
      "2/2 [==============================] - 5s 2s/step - loss: 0.1279 - accuracy: 0.9808\n",
      "Epoch 28/30\n",
      "2/2 [==============================] - 5s 2s/step - loss: 0.0262 - accuracy: 0.9808\n",
      "Epoch 29/30\n",
      "2/2 [==============================] - 5s 2s/step - loss: 0.0431 - accuracy: 0.9808\n",
      "Epoch 30/30\n",
      "2/2 [==============================] - 5s 2s/step - loss: 0.0489 - accuracy: 0.9808\n"
     ]
    },
    {
     "data": {
      "text/plain": [
       "<keras.callbacks.History at 0x1f7807d0a00>"
      ]
     },
     "execution_count": 33,
     "metadata": {},
     "output_type": "execute_result"
    }
   ],
   "source": [
    "model.fit(X,y,epochs=30)"
   ]
  },
  {
   "cell_type": "code",
   "execution_count": 34,
   "id": "0e9199f5",
   "metadata": {},
   "outputs": [],
   "source": [
    "X_test = np.zeros((16,300,300)) \n",
    "test_directories = [r\"C:\\Users\\local1\\sarvghad visualizations\\Test_CNN_1bar\",\n",
    "                    r\"C:\\Users\\local1\\sarvghad visualizations\\Test_CNN_2bar\",\n",
    "                    r\"C:\\Users\\local1\\sarvghad visualizations\\Test_CNN_1line\",\n",
    "                    r\"C:\\Users\\local1\\sarvghad visualizations\\Test_CNN_2line\"\n",
    "                 ]\n",
    "load_data(test_directories,X_test)"
   ]
  },
  {
   "cell_type": "code",
   "execution_count": 35,
   "id": "5e454aab",
   "metadata": {
    "collapsed": true
   },
   "outputs": [
    {
     "name": "stdout",
     "output_type": "stream",
     "text": [
      "1/1 [==============================] - 1s 555ms/step\n",
      "[[9.9925953e-01 4.1932941e-05 6.6194794e-04 3.6558969e-05]\n",
      " [8.8080627e-01 2.5594451e-03 1.1402284e-01 2.6113472e-03]\n",
      " [9.9898773e-01 4.6512832e-05 9.1903046e-04 4.6706191e-05]\n",
      " [9.9992657e-01 3.8631401e-06 6.5531203e-05 3.9633414e-06]\n",
      " [1.0314469e-03 9.8889625e-01 1.8271575e-03 8.2451841e-03]\n",
      " [9.6557769e-06 9.9977916e-01 2.5180207e-05 1.8602620e-04]\n",
      " [3.6766851e-06 9.9988484e-01 1.3742746e-05 9.7742035e-05]\n",
      " [1.9590330e-05 9.9972790e-01 4.3369928e-05 2.0910846e-04]\n",
      " [2.5144021e-04 1.8308304e-04 9.9887437e-01 6.9103483e-04]\n",
      " [3.1670951e-03 9.2115789e-04 9.9432373e-01 1.5881044e-03]\n",
      " [4.5777514e-04 3.0680301e-04 9.9825650e-01 9.7883213e-04]\n",
      " [4.1828435e-04 2.9183764e-04 9.9830461e-01 9.8519912e-04]\n",
      " [4.5024715e-03 1.4533824e-02 4.7248043e-03 9.7623891e-01]\n",
      " [4.8168533e-04 3.1088628e-03 2.2228605e-04 9.9618715e-01]\n",
      " [6.4818007e-03 1.1483411e-02 2.4907198e-03 9.7954398e-01]\n",
      " [3.8413696e-03 8.6365156e-03 1.5368981e-03 9.8598528e-01]]\n"
     ]
    }
   ],
   "source": [
    "a= model.predict(X_test)\n",
    "print(a)"
   ]
  }
 ],
 "metadata": {
  "kernelspec": {
   "display_name": "Python 3 (ipykernel)",
   "language": "python",
   "name": "python3"
  },
  "language_info": {
   "codemirror_mode": {
    "name": "ipython",
    "version": 3
   },
   "file_extension": ".py",
   "mimetype": "text/x-python",
   "name": "python",
   "nbconvert_exporter": "python",
   "pygments_lexer": "ipython3",
   "version": "3.9.13"
  }
 },
 "nbformat": 4,
 "nbformat_minor": 5
}
