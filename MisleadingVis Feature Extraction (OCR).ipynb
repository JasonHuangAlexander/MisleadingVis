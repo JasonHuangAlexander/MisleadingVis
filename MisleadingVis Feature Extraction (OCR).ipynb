{
 "cells": [
  {
   "cell_type": "code",
   "execution_count": 1,
   "id": "35f29c0d",
   "metadata": {},
   "outputs": [],
   "source": [
    "from PIL import Image, ImageOps\n",
    "import pytesseract\n",
    "pytesseract.pytesseract.tesseract_cmd = r\"C:\\\\Program Files\\\\Tesseract-OCR\\\\tesseract.exe\""
   ]
  },
  {
   "cell_type": "code",
   "execution_count": 2,
   "id": "1788f874",
   "metadata": {},
   "outputs": [],
   "source": [
    "def prepareImage(file):\n",
    "    original_image = Image.open(file)\n",
    "    title = original_image.crop((0, 0, 600, 55))\n",
    "    x_ticks = original_image.crop((74,301,600,337))\n",
    "    x_title = original_image.crop((53,338,600,368))\n",
    "    y_title = original_image.crop((0,0,400,400)).rotate(270).crop((0,0,350,38))\n",
    "    bottom_y_tick = original_image.crop((38,280,80,310))\n",
    "    y_ticks = original_image.crop((38,77,84,307))\n",
    "    top_y_tick = original_image.crop((38,77,94,96))\n",
    "    legend = original_image.crop((2,48,599,74))\n",
    "    num = (pytesseract.image_to_string(top_y_tick))\n",
    "    newnum = \"\"\n",
    "    for i in num:\n",
    "        if i.isdigit():\n",
    "            newnum = newnum + i\n",
    "    if len(newnum)>3:\n",
    "        top_y_tick_bound = (pytesseract.image_to_boxes(top_y_tick)).split()\n",
    "        y_ticks = original_image.crop((38,77,84+(84-int(top_y_tick_bound[-3])),310))\n",
    "        bottom_y_tick = original_image.crop((38,280,80+(80-int(top_y_tick_bound[-3])),310))\n",
    "    return original_image,title,x_ticks,y_ticks,x_title,y_title,bottom_y_tick,top_y_tick,legend"
   ]
  },
  {
   "cell_type": "code",
   "execution_count": 38,
   "id": "2f921794",
   "metadata": {},
   "outputs": [],
   "source": [
    "file = r\"C:\\Users\\local1\\sarvghad visualizations\\Evaluation Graphs\\COVID-19\\2Bar\\COVID vs flu cases, 2020 10.png\"\n",
    "original_image,title,x_ticks,y_ticks,x_title,y_title,bottom_y_tick,top_y_tick,legend = prepareImage(file)"
   ]
  },
  {
   "cell_type": "code",
   "execution_count": 4,
   "id": "cb19880e",
   "metadata": {},
   "outputs": [
    {
     "name": "stdout",
     "output_type": "stream",
     "text": [
      "[['J', 'a', 'n'], [], ['F', 'e', 'b'], [], ['M', 'a', 'r'], [], ['A', 'p', 'r'], [], ['M', 'a', 'y'], [], ['J', 'u', 'n'], [], ['J', 'u', 'l', '.'], [], ['A', 'u', 'g'], [], ['S', 'e', 'p'], [], ['O', 'c', 't'], [], ['N', 'o', 'v'], [], ['D', 'e', 'c', '.']]\n"
     ]
    }
   ],
   "source": [
    "text_from_image = list(pytesseract.image_to_string(x_ticks))\n",
    "output = []\n",
    "previous = 0\n",
    "for i in range(len(text_from_image)):\n",
    "    global previous\n",
    "    if (text_from_image[i]=='\\n'):\n",
    "        output.append(text_from_image[previous:i])\n",
    "        previous = i+1\n",
    "if len(output)==1:\n",
    "    new_output = []\n",
    "    previous = 0\n",
    "    for i in range(len(output[0])):\n",
    "        if output[0][i] == ' ':\n",
    "            new_output.append(output[0][previous:i])\n",
    "            previous = i+1\n",
    "            new_output.append([])\n",
    "    new_output.append(output[0][previous:len(output[0])])\n",
    "    output = new_output\n",
    "print(output)\n",
    "#y_ticks.show()"
   ]
  },
  {
   "cell_type": "code",
   "execution_count": 5,
   "id": "46e67660",
   "metadata": {},
   "outputs": [
    {
     "name": "stdout",
     "output_type": "stream",
     "text": [
      "[['J', '21', '20', '26', '29', '0'], ['a', '28', '20', '33', '27', '0'], ['n', '35', '20', '40', '27', '0'], ['F', '62', '20', '67', '29', '0'], ['e', '69', '20', '74', '27', '0'], ['b', '76', '20', '81', '29', '0'], ['M', '104', '20', '111', '29', '0'], ['a', '113', '20', '118', '27', '0'], ['r', '120', '20', '123', '27', '0'], ['A', '144', '20', '151', '29', '0'], ['p', '152', '18', '157', '27', '0'], ['r', '159', '20', '162', '27', '0'], ['M', '185', '20', '192', '29', '0'], ['a', '194', '20', '199', '27', '0'], ['y', '200', '18', '205', '27', '0'], ['J', '225', '20', '230', '29', '0'], ['u', '232', '20', '237', '27', '0'], ['n', '239', '20', '244', '27', '0'], ['J', '268', '20', '273', '29', '0'], ['u', '275', '20', '280', '27', '0'], ['l', '282', '20', '283', '29', '0'], ['.', '282', '20', '283', '29', '0'], ['A', '306', '20', '313', '29', '0'], ['u', '314', '20', '319', '27', '0'], ['g', '321', '18', '326', '27', '0'], ['S', '348', '20', '354', '29', '0'], ['e', '356', '20', '361', '27', '0'], ['p', '363', '18', '368', '27', '0'], ['O', '390', '20', '397', '29', '0'], ['c', '399', '20', '403', '27', '0'], ['t', '404', '20', '407', '29', '0'], ['N', '430', '20', '437', '29', '0'], ['o', '439', '20', '444', '27', '0'], ['v', '445', '20', '450', '27', '0'], ['D', '470', '20', '477', '29', '0'], ['e', '479', '20', '484', '27', '0'], ['c', '486', '20', '490', '27', '0'], ['.', '489', '20', '490', '29', '0']]\n"
     ]
    }
   ],
   "source": [
    "boxes_from_image = pytesseract.image_to_boxes(x_ticks)\n",
    "boxes = []\n",
    "previous = 0\n",
    "for i in range(len(boxes_from_image)):\n",
    "    global previous\n",
    "    if (boxes_from_image[i]=='\\n'):\n",
    "        boxes.append((boxes_from_image[previous:i]).split())\n",
    "        previous = i+1\n",
    "print(boxes)\n",
    "#pprint.pprint(boxes)"
   ]
  },
  {
   "cell_type": "code",
   "execution_count": 6,
   "id": "847abfae",
   "metadata": {},
   "outputs": [
    {
     "name": "stdout",
     "output_type": "stream",
     "text": [
      "{'Jan': 26, 'Feb': 67, 'Mar': 109, 'Apr': 149, 'May': 190, 'Jun': 230, 'Jul.': 273, 'Aug': 311, 'Sep': 353, 'Oct': 395, 'Nov': 435, 'Dec.': 475}\n"
     ]
    }
   ],
   "source": [
    "x_tick_coords = {}\n",
    "count = 0\n",
    "for List in output:\n",
    "    if len(List)>0:\n",
    "        x_tick_coords[''.join(List)] = int(boxes[count][1])+5\n",
    "        for i in range(len(List)):\n",
    "            count+=1\n",
    "print(x_tick_coords)"
   ]
  },
  {
   "cell_type": "code",
   "execution_count": 7,
   "id": "b15b40d4",
   "metadata": {},
   "outputs": [],
   "source": [
    "for key in x_tick_coords:\n",
    "    x_tick_coords[key] = x_tick_coords[key]+74"
   ]
  },
  {
   "cell_type": "code",
   "execution_count": 8,
   "id": "ba94dbb3",
   "metadata": {},
   "outputs": [],
   "source": [
    "visType = \"2bar\""
   ]
  },
  {
   "cell_type": "code",
   "execution_count": 9,
   "id": "ee89c685",
   "metadata": {},
   "outputs": [
    {
     "name": "stdout",
     "output_type": "stream",
     "text": [
      "[1, 1, 1, 19, 29, 22, 32, 65, 43, 43, 83, 169]\n",
      "[17, 26, 17, 1, 1, 1, 1, 1, 1, 1, 1]\n"
     ]
    }
   ],
   "source": [
    "#add top of bar coords to new list\n",
    "if visType==\"1bar\":\n",
    "    tops = []\n",
    "    for tick in x_tick_coords:\n",
    "        y = 306\n",
    "        start = False\n",
    "        while y != 83:\n",
    "            if original_image.load()[x_tick_coords[tick],y] != (255,255,255,255):\n",
    "                start = True\n",
    "            if start:\n",
    "                if original_image.load()[x_tick_coords[tick],y] == (255,255,255,255):\n",
    "                    tops.append(y+1)\n",
    "                    break\n",
    "            y = y - 1\n",
    "    for x in range(len(tops)):\n",
    "        tops[x] = 300 - tops[x]\n",
    "    print(tops)\n",
    "elif visType ==\"1line\":\n",
    "    tops = []\n",
    "    count = 0\n",
    "    for tick in x_tick_coords:\n",
    "        y = 306\n",
    "        while y != 83:\n",
    "            if count == 0:\n",
    "                if original_image.load()[x_tick_coords[tick]+10,y] != (255, 255, 255,255):\n",
    "                    tops.append(y+1)\n",
    "                    break\n",
    "                y = y - 1\n",
    "            elif count == len(list(dict.keys(x_tick_coords)))-1:\n",
    "                if original_image.load()[x_tick_coords[tick]-5,y] != (255, 255, 255,255):\n",
    "                    tops.append(y+1)\n",
    "                    break\n",
    "                y = y - 1\n",
    "            else:\n",
    "                if original_image.load()[x_tick_coords[tick],y] != (255, 255, 255,255):\n",
    "                    tops.append(y+1)\n",
    "                    break\n",
    "                y = y - 1\n",
    "        count+=1\n",
    "    for x in range(len(tops)):\n",
    "        tops[x] = 300 - tops[x]\n",
    "    print(tops)\n",
    "elif visType == \"2bar\":\n",
    "    count = 0\n",
    "    for key in x_tick_coords:\n",
    "        if (len(key)%2==0):\n",
    "            middle_coord = (int(boxes[count][3]) + int(boxes[len(key)][3]))//2\n",
    "        elif (len(key)%2!=0):\n",
    "            middle_coord = (boxes[len(key)//2][3])\n",
    "        count = count + len(key)\n",
    "    left_tops = []\n",
    "    right_tops = []\n",
    "    for tick in x_tick_coords: #for left\n",
    "        y = 306\n",
    "        start = False\n",
    "        while y != 83:\n",
    "            if original_image.load()[x_tick_coords[tick]-6,y] != (255,255,255,255):\n",
    "                start = True\n",
    "            if start:\n",
    "                if original_image.load()[x_tick_coords[tick]-6,y] == (255,255,255,255):\n",
    "                    left_tops.append(y+1)\n",
    "                    break\n",
    "            y = y - 1\n",
    "    for x in range(len(left_tops)):\n",
    "        left_tops[x] = 300 - left_tops[x]\n",
    "    print(left_tops)\n",
    "    for tick in x_tick_coords: #for right\n",
    "        y = 306\n",
    "        start = False\n",
    "        while y != 83:\n",
    "            if original_image.load()[x_tick_coords[tick]+6,y] != (255,255,255,255):\n",
    "                start = True\n",
    "            if start:\n",
    "                if original_image.load()[x_tick_coords[tick]+6,y] == (255,255,255,255):\n",
    "                    right_tops.append(y+1)\n",
    "                    break\n",
    "            y = y - 1\n",
    "    for x in range(len(right_tops)):\n",
    "        right_tops[x] = 300 - right_tops[x]\n",
    "    print(right_tops)\n",
    "elif visType == \"2line\":\n",
    "    left_tops = []\n",
    "    right_tops = []\n",
    "    tickCount = 0\n",
    "    for tick in x_tick_coords:\n",
    "        y = 306\n",
    "        foundRed = False\n",
    "        foundBlue = False\n",
    "        foundPoints = []\n",
    "        while y != 83:\n",
    "            if tickCount == 0:\n",
    "                if original_image.load()[x_tick_coords[tick]+10,y] == (234, 67, 53, 255) and foundRed == False:#red\n",
    "                    right_tops.append(y+1)\n",
    "                    foundRed = True\n",
    "                    foundPoints.append(y)\n",
    "                elif original_image.load()[x_tick_coords[tick]+10,y] == (66, 133, 244, 255) and foundBlue == False: #blue\n",
    "                    left_tops.append(y+1)\n",
    "                    foundBlue = True\n",
    "                    foundPoints.append(y)\n",
    "            elif tickCount == len(list(dict.keys(x_tick_coords)))-1:\n",
    "                if original_image.load()[x_tick_coords[tick]-5,y] == (234, 67, 53, 255) and foundRed == False:#red\n",
    "                    right_tops.append(y+1)\n",
    "                    foundRed = True\n",
    "                    foundPoints.append(y)\n",
    "                elif original_image.load()[x_tick_coords[tick]-5,y] == (66, 133, 244, 255) and foundBlue == False: #blue\n",
    "                    left_tops.append(y+1)\n",
    "                    foundBlue = True\n",
    "                    foundPoints.append(y)\n",
    "            else:\n",
    "                if original_image.load()[x_tick_coords[tick],y] == (234, 67, 53, 255) and foundRed == False:#red\n",
    "                    right_tops.append(y+1)\n",
    "                    foundRed = True\n",
    "                    foundPoints.append(y)\n",
    "                elif original_image.load()[x_tick_coords[tick],y] == (66, 133, 244, 255) and foundBlue == False: #blue\n",
    "                    left_tops.append(y+1)\n",
    "                    foundBlue = True\n",
    "                    foundPoints.append(y)\n",
    "                    \n",
    "            y=y-1\n",
    "        tickCount+=1\n",
    "        if len(foundPoints)==1:\n",
    "            if len(left_tops) < len(right_tops):\n",
    "                left_tops.append(foundPoints[0]+1)\n",
    "            elif len(right_tops) < len(left_tops):\n",
    "                right_tops.append(foundPoints[0]+1)\n",
    "    for x in range(len(left_tops)):\n",
    "        left_tops[x] = 300 - left_tops[x]\n",
    "    print(left_tops)\n",
    "    for x in range(len(right_tops)):\n",
    "        right_tops[x] = 300 - right_tops[x]\n",
    "    print(right_tops)"
   ]
  },
  {
   "cell_type": "code",
   "execution_count": 10,
   "id": "e9246a1e",
   "metadata": {},
   "outputs": [
    {
     "name": "stdout",
     "output_type": "stream",
     "text": [
      "[['2', '0', '0'], [], ['1', '5', '0'], [], ['1', '0', '0'], [], ['5', '0']]\n"
     ]
    }
   ],
   "source": [
    "text_from_image = list(pytesseract.image_to_string(y_ticks))\n",
    "output = []\n",
    "previous = 0\n",
    "for i in range(len(text_from_image)):\n",
    "    global previous\n",
    "    if (text_from_image[i]=='\\n'):\n",
    "        output.append(text_from_image[previous:i])\n",
    "        previous = i+1\n",
    "print(output)\n",
    "#y_ticks.show()\n",
    "#print(pytesseract.image_to_string(y_ticks))"
   ]
  },
  {
   "cell_type": "code",
   "execution_count": 11,
   "id": "d9ef3d76",
   "metadata": {},
   "outputs": [
    {
     "name": "stdout",
     "output_type": "stream",
     "text": [
      "[['2', '14', '215', '19', '224', '0'], ['0', '21', '215', '26', '224', '0'], ['0', '28', '215', '33', '224', '0'], ['1', '14', '162', '17', '171', '0'], ['5', '21', '162', '26', '171', '0'], ['0', '28', '162', '33', '171', '0'], ['1', '14', '109', '17', '118', '0'], ['0', '21', '109', '26', '118', '0'], ['0', '28', '109', '33', '118', '0'], ['5', '21', '56', '26', '65', '0'], ['0', '28', '56', '33', '65', '0']]\n"
     ]
    }
   ],
   "source": [
    "boxes_from_image = pytesseract.image_to_boxes(y_ticks)\n",
    "boxes = []\n",
    "previous = 0\n",
    "for i in range(len(boxes_from_image)):\n",
    "    global previous\n",
    "    if (boxes_from_image[i]=='\\n'):\n",
    "        boxes.append((boxes_from_image[previous:i]).split())\n",
    "        previous = i+1\n",
    "print(boxes)"
   ]
  },
  {
   "cell_type": "code",
   "execution_count": 12,
   "id": "49cc9f94",
   "metadata": {},
   "outputs": [
    {
     "name": "stdout",
     "output_type": "stream",
     "text": [
      "{200: 190, 150: 243, 100: 296, 50: 349}\n"
     ]
    }
   ],
   "source": [
    "y_tick_coords = {}\n",
    "count = 0\n",
    "for List in output:\n",
    "    if len(List)>0:\n",
    "        y_tick_coords[''.join(List)] = 322-int(boxes[count][2])+83\n",
    "        for i in range(len(List)):\n",
    "            count+=1\n",
    "newdict = {}\n",
    "for key in y_tick_coords:\n",
    "    newnum = \"\"\n",
    "    for i in key:\n",
    "        if i.isdigit():\n",
    "            newnum = newnum + i\n",
    "    newdict[int(newnum)] = y_tick_coords[key]\n",
    "y_tick_coords = newdict\n",
    "print(y_tick_coords)"
   ]
  },
  {
   "cell_type": "code",
   "execution_count": 13,
   "id": "dee9248c",
   "metadata": {},
   "outputs": [
    {
     "name": "stdout",
     "output_type": "stream",
     "text": [
      "{200: 190, 150: 243, 100: 296, 0: 349}\n"
     ]
    }
   ],
   "source": [
    "bottom_y = int(pytesseract.image_to_string(bottom_y_tick,config=\"--psm 10\"))\n",
    "if list(dict.keys(y_tick_coords))[-1] != bottom_y:\n",
    "    coord = y_tick_coords[list(dict.keys(y_tick_coords))[-1]]\n",
    "    del y_tick_coords[list(dict.keys(y_tick_coords))[-1]]\n",
    "    y_tick_coords[bottom_y] = coord\n",
    "print(y_tick_coords)"
   ]
  },
  {
   "cell_type": "code",
   "execution_count": 14,
   "id": "2b1117c1",
   "metadata": {},
   "outputs": [
    {
     "name": "stdout",
     "output_type": "stream",
     "text": [
      "50\n",
      "53\n",
      "0\n",
      "[]\n",
      "[1, 1, 1, 18, 27, 21, 30, 61, 41, 41, 78, 159]\n",
      "[16, 25, 16, 1, 1, 1, 1, 1, 1, 1, 1]\n"
     ]
    }
   ],
   "source": [
    "data = []\n",
    "left_data = []\n",
    "right_data = []\n",
    "keys = list(dict.keys(y_tick_coords))\n",
    "top_tick = y_tick_coords[keys[0]]\n",
    "bottom_tick = y_tick_coords[keys[1]]\n",
    "pixel_difference = (bottom_tick-top_tick)\n",
    "tick_difference = (int(keys[0])- int(keys[1]))\n",
    "unit_value = tick_difference/pixel_difference\n",
    "if visType!=\"2bar\" and visType!=\"2line\":\n",
    "    for i in range(len(tops)):\n",
    "        data.append(round(unit_value*tops[i]+float(bottom_y)))\n",
    "elif visType==\"2bar\" or visType==\"2line\":\n",
    "    for i in range(len(left_tops)):\n",
    "        left_data.append(round(unit_value*left_tops[i]+float(bottom_y)))\n",
    "    for i in range(len(right_tops)):\n",
    "        right_data.append(round(unit_value*right_tops[i]+float(bottom_y)))\n",
    "    \n",
    "print(tick_difference)\n",
    "print(pixel_difference)\n",
    "print(bottom_y)\n",
    "print(data)\n",
    "print(left_data)\n",
    "print(right_data)\n",
    "#bottom_y_tick.show()"
   ]
  },
  {
   "cell_type": "code",
   "execution_count": 15,
   "id": "a6059a4f",
   "metadata": {},
   "outputs": [],
   "source": [
    "if (visType!=\"2bar\" and visType!=\"2line\"):\n",
    "    x_data = x_tick_coords\n",
    "    keys = list(dict.keys(x_data))\n",
    "    for i in range(len(data)):\n",
    "        x_data[keys[i]] = data[i]\n",
    "elif (visType==\"2bar\" or visType ==\"2line\"):\n",
    "    x_data = x_tick_coords\n",
    "    keys = list(dict.keys(x_data))\n",
    "    for i in range(len(left_data)):\n",
    "        x_data[keys[i]] = left_data[i]\n",
    "    for i in range(len(right_data)):\n",
    "        x_data[keys[i]] = x_data[keys[i]],right_data[i]"
   ]
  },
  {
   "cell_type": "code",
   "execution_count": 95,
   "id": "0c52d6e6",
   "metadata": {},
   "outputs": [],
   "source": [
    "feature_extraction = {}\n",
    "feature_extraction['title'] = pytesseract.image_to_string(title)\n",
    "feature_extraction['x_ticks'] = list(dict.keys(x_tick_coords))\n",
    "feature_extraction['y_ticks'] = list(dict.keys(y_tick_coords))\n",
    "feature_extraction['x_title'] =  pytesseract.image_to_string(x_title)\n",
    "feature_extraction['y_title'] =  pytesseract.image_to_string(y_title)\n",
    "feature_extraction['data'] = x_data\n",
    "feature_extraction['bottom_y_tick'] = bottom_y"
   ]
  },
  {
   "cell_type": "code",
   "execution_count": 96,
   "id": "7c8263f1",
   "metadata": {},
   "outputs": [
    {
     "name": "stdout",
     "output_type": "stream",
     "text": [
      "('@ COVID cases, thousands\\n', 'M™ Flu cases, thousands\\n')\n"
     ]
    }
   ],
   "source": [
    "if visType==\"2bar\" or visType ==\"2line\":\n",
    "    #labels = pytesseract.image_to_string(legend).split(\"\\n\\n\")\n",
    "    #for i in range(len(labels)):\n",
    "    #    labels[i] = labels[i].replace(\"=\",\"\")\n",
    "    #    labels[i] = labels[i].replace(\"\\n\",\" \")\n",
    "    #print(labels)\n",
    "    for i in range(599):\n",
    "        if original_image.load()[i,62] == (234, 67, 53, 255):\n",
    "            legend1 = original_image.crop((2,48,i,74))\n",
    "            legend2 = original_image.crop((i,48,599,74))\n",
    "            label1 = pytesseract.image_to_string(legend1)\n",
    "            label2 = pytesseract.image_to_string(legend2)\n",
    "            feature_extraction['legend'] = (label1,label2)\n",
    "            print(feature_extraction['legend'])\n",
    "            break"
   ]
  },
  {
   "cell_type": "code",
   "execution_count": 101,
   "id": "35534581",
   "metadata": {},
   "outputs": [
    {
     "name": "stdout",
     "output_type": "stream",
     "text": [
      "{'bottom_y_tick': 0,\n",
      " 'data': {'Apr': (18, 1),\n",
      "          'Aug': (61, 1),\n",
      "          'Dec.': 159,\n",
      "          'Feb': (1, 25),\n",
      "          'Jan': (1, 16),\n",
      "          'Jul.': (30, 1),\n",
      "          'Jun': (21, 1),\n",
      "          'Mar': (1, 16),\n",
      "          'May': (27, 1),\n",
      "          'Nov': (78, 1),\n",
      "          'Oct': (41, 1),\n",
      "          'Sep': (41, 1)},\n",
      " 'legend': ('@ COVID cases, thousands\\n', 'M™ Flu cases, thousands\\n'),\n",
      " 'title': 'COVID vs flu cases, 2020 10\\n',\n",
      " 'x_ticks': ['Jan',\n",
      "             'Feb',\n",
      "             'Mar',\n",
      "             'Apr',\n",
      "             'May',\n",
      "             'Jun',\n",
      "             'Jul.',\n",
      "             'Aug',\n",
      "             'Sep',\n",
      "             'Oct',\n",
      "             'Nov',\n",
      "             'Dec.'],\n",
      " 'x_title': 'Month (2020)\\n',\n",
      " 'y_ticks': [200, 150, 100, 0],\n",
      " 'y_title': 'Cases of illness (USA)\\n'}\n"
     ]
    }
   ],
   "source": [
    "import pprint\n",
    "pprint.pprint(feature_extraction)"
   ]
  },
  {
   "cell_type": "code",
   "execution_count": 110,
   "id": "4d097d34",
   "metadata": {},
   "outputs": [],
   "source": [
    "for key in feature_extraction:\n",
    "    if type(feature_extraction[key]) is list or type(feature_extraction[key]) is tuple:\n",
    "        new_list = [\"\"]*len(feature_extraction[key])\n",
    "        for i in range(len(feature_extraction[key])):\n",
    "            element = str(feature_extraction[key][i])\n",
    "            for character in element:\n",
    "                if character.isalnum() == False and character != \",\" and character != \".\" and character != \"(\" and character != \")\" and character != \"!\" and character != \"?\" and character != \" \":\n",
    "                    element = element.replace(character,\"\")\n",
    "                new_list[i] = element\n",
    "        feature_extraction[key] = new_list\n",
    "    if type(feature_extraction[key]) is str:\n",
    "        newString = feature_extraction[key]\n",
    "        for character in feature_extraction[key]:\n",
    "            if character.isalnum() == False and character != \",\" and character != \".\" and character != \"(\" and character != \")\" and character != \"!\" and character != \"?\" and character != \" \":\n",
    "                newString = newString.replace(character,\"\")\n",
    "        feature_extraction[key] = newString"
   ]
  },
  {
   "cell_type": "code",
   "execution_count": 111,
   "id": "23c4ea81",
   "metadata": {},
   "outputs": [
    {
     "name": "stdout",
     "output_type": "stream",
     "text": [
      "{'bottom_y_tick': 0,\n",
      " 'data': {'Apr': (18, 1),\n",
      "          'Aug': (61, 1),\n",
      "          'Dec.': 159,\n",
      "          'Feb': (1, 25),\n",
      "          'Jan': (1, 16),\n",
      "          'Jul.': (30, 1),\n",
      "          'Jun': (21, 1),\n",
      "          'Mar': (1, 16),\n",
      "          'May': (27, 1),\n",
      "          'Nov': (78, 1),\n",
      "          'Oct': (41, 1),\n",
      "          'Sep': (41, 1)},\n",
      " 'legend': [' COVID cases, thousands', 'M Flu cases, thousands'],\n",
      " 'title': 'COVID vs flu cases, 2020 10',\n",
      " 'x_ticks': ['Jan',\n",
      "             'Feb',\n",
      "             'Mar',\n",
      "             'Apr',\n",
      "             'May',\n",
      "             'Jun',\n",
      "             'Jul.',\n",
      "             'Aug',\n",
      "             'Sep',\n",
      "             'Oct',\n",
      "             'Nov',\n",
      "             'Dec.'],\n",
      " 'x_title': 'Month (2020)',\n",
      " 'y_ticks': ['200', '150', '100', '0'],\n",
      " 'y_title': 'Cases of illness (USA)'}\n"
     ]
    }
   ],
   "source": [
    "pprint.pprint(feature_extraction)"
   ]
  },
  {
   "cell_type": "code",
   "execution_count": 36,
   "id": "2d69079f",
   "metadata": {},
   "outputs": [],
   "source": [
    "#heuristic analysis\n",
    "heuristic_misleaders = []\n",
    "x_ticks = features[\"x_ticks\"]\n",
    "y_ticks = features[\"y_ticks\"]\n",
    "#truncated y axis\n",
    "if (features[\"bottom_y_tick\"]) != 0:\n",
    "    heuristic_misleaders.append(\"Truncated y axis\")\n",
    "#nonlinear x axis\n",
    "delta = []\n",
    "if type(x_ticks[0])==\"int\":\n",
    "    for i in range(len(x_ticks)-1):\n",
    "        delta.append(int(x_ticks[i+1])-int(x_ticks[i]))\n",
    "    avgDelta = 0\n",
    "    for i in range(len(delta)):\n",
    "        avgDelta=avgDelta+delta[i]\n",
    "    avgDelta = avgDelta//len(delta)\n",
    "    for i in range(len(delta)-1):\n",
    "        if delta[i] > avgDelta + 10 or delta[i] < avgDelta - 10:\n",
    "            heuristic_misleaders.append(\"Nonlinear x axis\")\n",
    "            break\n",
    "    if avgDelta <0:\n",
    "        heuristic_misleaders.append(\"Backwards x axis\")\n",
    "#nonlinear y axis\n",
    "delta = []\n",
    "for i in range(len(y_ticks)-1):\n",
    "    delta.append(int(y_ticks[i+1])-int(y_ticks[i]))\n",
    "avgDelta = 0\n",
    "for i in range(len(delta)):\n",
    "    avgDelta=avgDelta+delta[i]\n",
    "avgDelta = avgDelta//len(delta)\n",
    "for i in range(len(delta)-1):\n",
    "    if delta[i] > avgDelta + 2 or delta[i] < avgDelta - 2:\n",
    "        heuristic_misleaders.append(\"Nonlinear y axis\")\n",
    "        break\n",
    "if avgDelta > 0:\n",
    "    heuristic_misleaders.append(\"Backwards y axis\")\n"
   ]
  },
  {
   "cell_type": "code",
   "execution_count": 56,
   "id": "999d8f48",
   "metadata": {},
   "outputs": [
    {
     "name": "stdout",
     "output_type": "stream",
     "text": [
      "['Nonlinear y axis']\n"
     ]
    }
   ],
   "source": [
    "print(heuristic_misleaders)"
   ]
  },
  {
   "cell_type": "code",
   "execution_count": null,
   "id": "b2f695cc",
   "metadata": {},
   "outputs": [],
   "source": [
    "#import os\n",
    "#import openai\n",
    "#openai.api_type = \"azure\"\n",
    "#openai.api_base = \"https://jha-openai.openai.azure.com/\" \n",
    "#openai.api_version = \"2023-05-15\"\n",
    "#openai.api_key = openai.api_key = \"2c6aa030a1c54d6fbb83335870dddcf6\"\n",
    "\n",
    "#response = openai.ChatCompletion.create(\n",
    "#    engine=\"test4\",\n",
    "#    messages=[\n",
    "#        {\"role\": \"user\", \"content\": \"Here are the features of a graph I found. The title is \\\"The US Population is shrinking\\\". Its x axis is titled \\\"year\\\". The y axis measures two variables, \\\"US population, in millions\\\", and \\\"US emmigration, in millions\\\". Here is a list of the graph's data.\\nData point 1: \\\"year\\\" = 2000, \\\"US population, in millions\\\" = 500, \\\"US emmigration, in millions\\\" = 0\\nData point 2: \\\"year\\\" = 2005, \\\"US population, in millions\\\" = 400, \\\"US emmigration, in millions\\\" = 100\\nData point 3:\\\"year\\\" = 2010, \\\"US population, in millions\\\" = 300, \\\"US emmigration, in millions\\\" = 200\\nData point 4: \\\"year\\\" = 2015, \\\"US population, in millions\\\" = 200, \\\"US emmigration, in millions\\\" = 300\\nData point 5: \\\"year\\\" = 2020, \\\"US population, in millions\\\" = 100, \\\"US emmigration, in millions\\\" = 400\\nGiven this description of the graph, summarize what the data is suggesting.\"},\n",
    "#        {\"role\": \"user\", \"content\": \"Repeat exactly what I just said, but correct any obvious spelling mistakes.\"},\n",
    "#    ]\n",
    "#)\n",
    "#print(response['choices'][0]['message']['content'])"
   ]
  },
  {
   "cell_type": "code",
   "execution_count": null,
   "id": "94760843",
   "metadata": {},
   "outputs": [],
   "source": [
    "#import os\n",
    "#import openai\n",
    "#openai.api_type = \"azure\"\n",
    "#openai.api_base = \"https://jha-openai.openai.azure.com/\" \n",
    "#openai.api_version = \"2023-05-15\"\n",
    "#openai.api_key = openai.api_key = \"2c6aa030a1c54d6fbb83335870dddcf6\"\n",
    "\n",
    "#response = openai.ChatCompletion.create(\n",
    "#    engine=\"test4\",\n",
    "#    messages=[\n",
    "#        {\"role\": \"user\", \"content\": \"Here are the features of a graph I found. The title is \\\"The US Population is shrinking\\\". Its x axis is titled \\\"year\\\". The y axis measures two variables, \\\"US population, in millions\\\", and \\\"US emmigration, in millions\\\". Here is a list of the graph's data.\\nData point 1: \\\"year\\\" = 2000, \\\"US population, in millions\\\" = 500, \\\"US emmigration, in millions\\\" = 0\\nData point 2: \\\"year\\\" = 2005, \\\"US population, in millions\\\" = 400, \\\"US emmigration, in millions\\\" = 100\\nData point 3:\\\"year\\\" = 2010, \\\"US population, in millions\\\" = 300, \\\"US emmigration, in millions\\\" = 200\\nData point 4: \\\"year\\\" = 2015, \\\"US population, in millions\\\" = 200, \\\"US emmigration, in millions\\\" = 300\\nData point 5: \\\"year\\\" = 2020, \\\"US population, in millions\\\" = 100, \\\"US emmigration, in millions\\\" = 400\\nGiven this description of the graph, summarize what the data is suggesting.\"},\n",
    "#        {\"role\": \"user\", \"content\": \"What about this graph, if anything, might mislead an uninformed reader?\"},\n",
    "#        {\"role\": \"user\", \"content\": \"Based on your previous answer, is this graph misleading? Please answer yes or no\"}\n",
    "#    ]\n",
    "#)\n",
    "#print(response['choices'][0]['message']['content'])"
   ]
  },
  {
   "cell_type": "code",
   "execution_count": 1,
   "id": "8086571e",
   "metadata": {},
   "outputs": [
    {
     "name": "stdout",
     "output_type": "stream",
     "text": [
      "Welfare economics is a branch of economics that studies how economic policies can improve the welfare of individuals and society as a whole. It focuses on the analysis of how the allocation of resources affects the well-being of people and examines the efficiency and equity of different market outcomes. The ultimate goal of welfare economics is to identify policies that can lead to a more efficient and fair distribution of resources, and ultimately, to improve the overall quality of life for everyone.\n"
     ]
    }
   ],
   "source": [
    "import os\n",
    "import openai\n",
    "openai.api_type = \"azure\"\n",
    "openai.api_base = \"https://jha-openai.openai.azure.com/\" \n",
    "openai.api_version = \"2023-05-15\"\n",
    "openai.api_key = openai.api_key = \"2c6aa030a1c54d6fbb83335870dddcf6\"\n",
    "response = openai.ChatCompletion.create(\n",
    "    engine=\"test4\",\n",
    "    messages=[\n",
    "        {\"role\": \"user\", \"content\": \"what is welfare economics?\"},\n",
    "    ]\n",
    ")\n",
    "print(response['choices'][0]['message']['content'])"
   ]
  }
 ],
 "metadata": {
  "kernelspec": {
   "display_name": "Python 3 (ipykernel)",
   "language": "python",
   "name": "python3"
  },
  "language_info": {
   "codemirror_mode": {
    "name": "ipython",
    "version": 3
   },
   "file_extension": ".py",
   "mimetype": "text/x-python",
   "name": "python",
   "nbconvert_exporter": "python",
   "pygments_lexer": "ipython3",
   "version": "3.9.13"
  }
 },
 "nbformat": 4,
 "nbformat_minor": 5
}
