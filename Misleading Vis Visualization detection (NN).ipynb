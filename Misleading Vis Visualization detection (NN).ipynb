{
 "cells": [
  {
   "cell_type": "code",
   "execution_count": null,
   "id": "659e5c3b",
   "metadata": {},
   "outputs": [],
   "source": [
    "#given input image, classify as histogram or pie chart or none (in the future, expand to other types too!)"
   ]
  },
  {
   "cell_type": "code",
   "execution_count": null,
   "id": "91371f35",
   "metadata": {},
   "outputs": [],
   "source": [
    "#import libraries\n",
    "import numpy as np\n",
    "import tensorflow as tf\n",
    "from tensorflow.python.ops.numpy_ops import np_config\n",
    "np_config.enable_numpy_behavior()\n",
    "from tensorflow.keras import Sequential\n",
    "from tensorflow.keras.layers import Dense\n",
    "from PIL import Image, ImageOps\n",
    "import os"
   ]
  },
  {
   "cell_type": "code",
   "execution_count": null,
   "id": "e0adfa3b",
   "metadata": {},
   "outputs": [],
   "source": [
    "X = [] \n",
    "y = [1,1,1,1,1,0,0,0,0,0] \n",
    "directory = r\"C:\\Users\\local1\\sarvghad visualizations\\positive_train\"\n",
    "for filename in os.listdir(directory):\n",
    "    f = os.path.join(directory, filename)\n",
    "    if os.path.isfile(f):\n",
    "        training_image = Image.open(f)\n",
    "        training_image = training_image.resize((300,300)) \n",
    "        training_image = ImageOps.grayscale(training_image) \n",
    "        pixel_vals = []\n",
    "        for i in range(300):\n",
    "            for j in range(300):\n",
    "                pixel = training_image.getpixel((i, j))\n",
    "                pixel_vals.append(pixel)\n",
    "        X.append(pixel_vals)\n",
    "directory = r\"C:\\Users\\local1\\sarvghad visualizations\\negative_train\"\n",
    "for filename in os.listdir(directory):\n",
    "    f = os.path.join(directory, filename)\n",
    "    if os.path.isfile(f):\n",
    "        training_image = Image.open(f)\n",
    "        training_image = training_image.resize((300,300)) \n",
    "        training_image = ImageOps.grayscale(training_image) \n",
    "        pixel_vals = []\n",
    "        for i in range(300):\n",
    "            for j in range(300):\n",
    "                pixel = training_image.getpixel((i, j))\n",
    "                pixel_vals.append(pixel)\n",
    "        X.append(pixel_vals)"
   ]
  },
  {
   "cell_type": "code",
   "execution_count": 2,
   "id": "a76dc396",
   "metadata": {},
   "outputs": [
    {
     "ename": "NameError",
     "evalue": "name 'Sequential' is not defined",
     "output_type": "error",
     "traceback": [
      "\u001b[1;31m---------------------------------------------------------------------------\u001b[0m",
      "\u001b[1;31mNameError\u001b[0m                                 Traceback (most recent call last)",
      "\u001b[1;32m~\\AppData\\Local\\Temp\\ipykernel_15044\\3045307071.py\u001b[0m in \u001b[0;36m<module>\u001b[1;34m\u001b[0m\n\u001b[1;32m----> 1\u001b[1;33m model = Sequential([\n\u001b[0m\u001b[0;32m      2\u001b[0m         \u001b[1;31m#tf.keras.Input(shape=(300,300)), #change?\u001b[0m\u001b[1;33m\u001b[0m\u001b[1;33m\u001b[0m\u001b[0m\n\u001b[0;32m      3\u001b[0m         \u001b[0mDense\u001b[0m\u001b[1;33m(\u001b[0m\u001b[0munits\u001b[0m \u001b[1;33m=\u001b[0m \u001b[1;36m128\u001b[0m\u001b[1;33m,\u001b[0m \u001b[0mactivation\u001b[0m \u001b[1;33m=\u001b[0m \u001b[1;34m\"relu\"\u001b[0m\u001b[1;33m,\u001b[0m \u001b[0mname\u001b[0m\u001b[1;33m=\u001b[0m\u001b[1;34m\"layer1\"\u001b[0m\u001b[1;33m)\u001b[0m\u001b[1;33m,\u001b[0m\u001b[1;33m\u001b[0m\u001b[1;33m\u001b[0m\u001b[0m\n\u001b[0;32m      4\u001b[0m         \u001b[0mDense\u001b[0m\u001b[1;33m(\u001b[0m\u001b[0munits\u001b[0m \u001b[1;33m=\u001b[0m \u001b[1;36m64\u001b[0m\u001b[1;33m,\u001b[0m \u001b[0mactivation\u001b[0m \u001b[1;33m=\u001b[0m \u001b[1;34m\"relu\"\u001b[0m\u001b[1;33m,\u001b[0m \u001b[0mname\u001b[0m\u001b[1;33m=\u001b[0m\u001b[1;34m\"layer2\"\u001b[0m\u001b[1;33m)\u001b[0m\u001b[1;33m,\u001b[0m\u001b[1;33m\u001b[0m\u001b[1;33m\u001b[0m\u001b[0m\n\u001b[0;32m      5\u001b[0m         \u001b[0mDense\u001b[0m\u001b[1;33m(\u001b[0m\u001b[0munits\u001b[0m \u001b[1;33m=\u001b[0m \u001b[1;36m32\u001b[0m\u001b[1;33m,\u001b[0m \u001b[0mactivation\u001b[0m \u001b[1;33m=\u001b[0m \u001b[1;34m\"relu\"\u001b[0m\u001b[1;33m,\u001b[0m \u001b[0mname\u001b[0m\u001b[1;33m=\u001b[0m\u001b[1;34m\"layer3\"\u001b[0m\u001b[1;33m)\u001b[0m\u001b[1;33m,\u001b[0m\u001b[1;33m\u001b[0m\u001b[1;33m\u001b[0m\u001b[0m\n",
      "\u001b[1;31mNameError\u001b[0m: name 'Sequential' is not defined"
     ]
    }
   ],
   "source": [
    "model = Sequential([\n",
    "        #tf.keras.Input(shape=(300,300)), #change?\n",
    "        Dense(units = 128, activation = \"relu\", name=\"layer1\"),\n",
    "        Dense(units = 64, activation = \"relu\", name=\"layer2\"),\n",
    "        Dense(units = 32, activation = \"relu\", name=\"layer3\"),\n",
    "        Dense(units = 3, activation = \"softmax\", name=\"layer4\") #3, for histogram, pie, and none\n",
    "        ])\n",
    "model.compile(\n",
    "    loss=tf.keras.losses.SparseCategoricalCrossentropy(), \n",
    "    optimizer=tf.keras.optimizers.Adam(0.001),\n",
    ")"
   ]
  },
  {
   "cell_type": "code",
   "execution_count": null,
   "id": "0db9f381",
   "metadata": {},
   "outputs": [],
   "source": [
    "model.fit(X,y,epochs = 100)"
   ]
  },
  {
   "cell_type": "code",
   "execution_count": null,
   "id": "7a10aa27",
   "metadata": {},
   "outputs": [],
   "source": [
    "X_test = [] \n",
    "y_test = [1,1,0,0] \n",
    "directory = r\"C:\\Users\\local1\\sarvghad visualizations\\positive_test\"\n",
    "for filename in os.listdir(directory):\n",
    "    f = os.path.join(directory, filename)\n",
    "    if os.path.isfile(f):\n",
    "        test_image = Image.open(f)\n",
    "        test_image = test_image.resize((300,300)) \n",
    "        test_image = ImageOps.grayscale(test_image) \n",
    "        pixel_vals = []\n",
    "        for i in range(300):\n",
    "            for j in range(300):\n",
    "                pixel = test_image.getpixel((i, j))\n",
    "                pixel_vals.append(pixel)\n",
    "        X_test.append(pixel_vals)\n",
    "directory = r\"C:\\Users\\local1\\sarvghad visualizations\\negative_test\"\n",
    "for filename in os.listdir(directory):\n",
    "    f = os.path.join(directory, filename)\n",
    "    if os.path.isfile(f):\n",
    "        test_image = Image.open(f)\n",
    "        test_image = test_image.resize((300,300)) \n",
    "        test_image = ImageOps.grayscale(test_image) \n",
    "        pixel_vals = []\n",
    "        for i in range(300):\n",
    "            for j in range(300):\n",
    "                pixel = test_image.getpixel((i, j))\n",
    "                pixel_vals.append(pixel)\n",
    "        X_test.append(pixel_vals)"
   ]
  },
  {
   "cell_type": "code",
   "execution_count": null,
   "id": "9b739f2a",
   "metadata": {},
   "outputs": [],
   "source": [
    "a= model.predict(X_test)\n",
    "print(a)"
   ]
  }
 ],
 "metadata": {
  "kernelspec": {
   "display_name": "Python 3 (ipykernel)",
   "language": "python",
   "name": "python3"
  },
  "language_info": {
   "codemirror_mode": {
    "name": "ipython",
    "version": 3
   },
   "file_extension": ".py",
   "mimetype": "text/x-python",
   "name": "python",
   "nbconvert_exporter": "python",
   "pygments_lexer": "ipython3",
   "version": "3.9.13"
  }
 },
 "nbformat": 4,
 "nbformat_minor": 5
}
