{
 "cells": [
  {
   "cell_type": "code",
   "execution_count": 7,
   "id": "1e723a2a",
   "metadata": {},
   "outputs": [
    {
     "name": "stdout",
     "output_type": "stream",
     "text": [
      "This is a lot of 12 point text to test the\n",
      "ocr code and see if it works on all types\n",
      "of file format.\n",
      "\n",
      "The quick brown dog jumped over the\n",
      "lazy fox. The quick brown dog jumped\n",
      "over the lazy fox. The quick brown dog\n",
      "jumped over the lazy fox. The quick\n",
      "brown dog jumped over the lazy fox.\n",
      "\n"
     ]
    }
   ],
   "source": [
    "from PIL import Image\n",
    "import pytesseract\n",
    "pytesseract.pytesseract.tesseract_cmd = r'C:\\Program Files\\Tesseract-OCR\\tesseract.exe'\n",
    "\n",
    "test = Image.open(\"C:\\Jason Alexander\\OIP.jpg\")\n",
    "#test.show()\n",
    "print(pytesseract.image_to_string(test))"
   ]
  }
 ],
 "metadata": {
  "kernelspec": {
   "display_name": "Python 3 (ipykernel)",
   "language": "python",
   "name": "python3"
  },
  "language_info": {
   "codemirror_mode": {
    "name": "ipython",
    "version": 3
   },
   "file_extension": ".py",
   "mimetype": "text/x-python",
   "name": "python",
   "nbconvert_exporter": "python",
   "pygments_lexer": "ipython3",
   "version": "3.11.5"
  }
 },
 "nbformat": 4,
 "nbformat_minor": 5
}
