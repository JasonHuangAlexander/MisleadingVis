{
 "cells": [
  {
   "cell_type": "code",
   "execution_count": null,
   "id": "2506a768",
   "metadata": {},
   "outputs": [],
   "source": [
    "#given the identification, now extract the features. For now, just for histograms "
   ]
  },
  {
   "cell_type": "code",
   "execution_count": null,
   "id": "35f29c0d",
   "metadata": {},
   "outputs": [],
   "source": [
    "import tensorflow as tf\n",
    "import numpy as np\n",
    "from tensorflow.keras import layers, models, Sequential\n",
    "from tensorflow.keras.layers import Dense, Conv2D, MaxPooling2D, Flatten, Dropout\n",
    "from PIL import Image, ImageOps\n",
    "import os"
   ]
  },
  {
   "cell_type": "code",
   "execution_count": null,
   "id": "5f8613fe",
   "metadata": {},
   "outputs": [],
   "source": [
    "def load_data(file,X):\n",
    "    directory = file\n",
    "    count = 0\n",
    "    for filename in os.listdir(directory):\n",
    "        f = os.path.join(directory, filename)\n",
    "        if os.path.isfile(f):\n",
    "            training_image = Image.open(f)\n",
    "            training_image = training_image.resize((300,300)) \n",
    "            for i in range(300):\n",
    "                for j in range(300):\n",
    "                    pixel = training_image.getpixel((i, j))\n",
    "                    pixel_new = (pixel[0]/255.0)\n",
    "                    X[count][i][j] = pixel_new\n",
    "            count+=1"
   ]
  },
  {
   "cell_type": "code",
   "execution_count": null,
   "id": "86972054",
   "metadata": {},
   "outputs": [],
   "source": [
    "X = np.zeros((10,300,300)) \n",
    "load_data(r\"C:\\Users\\local1\\sarvghad visualizations\\positive_train\",X)\n",
    "load_data(r\"C:\\Users\\local1\\sarvghad visualizations\\negative_train\",X)\n",
    "y = [1,1,1,1,1,\n",
    "     0,0,0,0,0\n",
    "    ]\n",
    "y=np.array(y)"
   ]
  },
  {
   "cell_type": "code",
   "execution_count": null,
   "id": "2f5faea1",
   "metadata": {},
   "outputs": [],
   "source": [
    "X = tf.expand_dims(X, axis=-1)"
   ]
  },
  {
   "cell_type": "code",
   "execution_count": null,
   "id": "bf0d74db",
   "metadata": {},
   "outputs": [],
   "source": [
    "model = Sequential([\n",
    "    Conv2D(filters=32,kernel_size=(3,3), activation='relu',name=\"convLayer1\"),\n",
    "    MaxPooling2D(pool_size=(2,2)),\n",
    "\n",
    "    Conv2D(filters=32,kernel_size=(3,3), activation='relu',name=\"convLayer2\"),\n",
    "    MaxPooling2D(pool_size=(2,2)),\n",
    "    Dropout(0.25),\n",
    "\n",
    "    Conv2D(filters=64,kernel_size=(3,3), activation='relu',name=\"convLayer3\"),\n",
    "    MaxPooling2D(pool_size=(2,2)),\n",
    "    Dropout(0.25),\n",
    "\n",
    "    Flatten(),\n",
    "    Dense(128, activation='relu',name=\"relu1\"),\n",
    "    Dropout(0.25),\n",
    "    Dense(64, activation='relu',name=\"relu2\"),\n",
    "    Dropout(0.25),\n",
    "    Dense(32, activation='relu',name=\"relu3\"),\n",
    "    Dropout(0.25),\n",
    "    Dense(1, activation='sigmoid',name=\"linear1\")\n",
    "])"
   ]
  },
  {
   "cell_type": "code",
   "execution_count": null,
   "id": "a6faa8d4",
   "metadata": {},
   "outputs": [],
   "source": [
    "model.compile(optimizer='adam',\n",
    "              loss=tf.keras.losses.BinaryCrossentropy(),\n",
    "              metrics=['accuracy'])"
   ]
  },
  {
   "cell_type": "code",
   "execution_count": null,
   "id": "3abc8063",
   "metadata": {
    "scrolled": true
   },
   "outputs": [
    {
     "name": "stdout",
     "output_type": "stream",
     "text": [
      "Epoch 1/20\n",
      "1/1 [==============================] - 4s 4s/step - loss: 0.7031 - accuracy: 0.7000\n",
      "Epoch 2/20\n",
      "1/1 [==============================] - 1s 712ms/step - loss: 0.4344 - accuracy: 0.5000\n",
      "Epoch 3/20\n",
      "1/1 [==============================] - 1s 727ms/step - loss: 0.3514 - accuracy: 0.5000\n",
      "Epoch 4/20\n",
      "1/1 [==============================] - 1s 726ms/step - loss: 0.3464 - accuracy: 0.7000\n",
      "Epoch 5/20\n",
      "1/1 [==============================] - 1s 720ms/step - loss: 0.3455 - accuracy: 0.9000\n",
      "Epoch 6/20\n",
      "1/1 [==============================] - 1s 690ms/step - loss: 0.3388 - accuracy: 1.0000\n",
      "Epoch 7/20\n",
      "1/1 [==============================] - 1s 742ms/step - loss: 0.3395 - accuracy: 1.0000\n",
      "Epoch 8/20\n",
      "1/1 [==============================] - 1s 696ms/step - loss: 0.3224 - accuracy: 1.0000\n",
      "Epoch 9/20\n",
      "1/1 [==============================] - 1s 687ms/step - loss: 0.3240 - accuracy: 0.9000\n",
      "Epoch 10/20\n",
      "1/1 [==============================] - 1s 710ms/step - loss: 0.3265 - accuracy: 0.8000\n",
      "Epoch 11/20\n",
      "1/1 [==============================] - 1s 723ms/step - loss: 0.3074 - accuracy: 0.9000\n",
      "Epoch 12/20\n",
      "1/1 [==============================] - 1s 708ms/step - loss: 0.2597 - accuracy: 1.0000\n",
      "Epoch 13/20\n",
      "1/1 [==============================] - 1s 669ms/step - loss: 0.2232 - accuracy: 1.0000\n",
      "Epoch 14/20\n",
      "1/1 [==============================] - 1s 710ms/step - loss: 0.1992 - accuracy: 1.0000\n",
      "Epoch 15/20\n",
      "1/1 [==============================] - 1s 684ms/step - loss: 0.1853 - accuracy: 1.0000\n",
      "Epoch 16/20\n",
      "1/1 [==============================] - 1s 664ms/step - loss: 0.1879 - accuracy: 0.9000\n",
      "Epoch 17/20\n",
      "1/1 [==============================] - 1s 686ms/step - loss: 0.0718 - accuracy: 1.0000\n",
      "Epoch 18/20\n",
      "1/1 [==============================] - 1s 690ms/step - loss: 0.1074 - accuracy: 0.9000\n",
      "Epoch 19/20\n",
      "1/1 [==============================] - 1s 668ms/step - loss: 0.0754 - accuracy: 0.9000\n",
      "Epoch 20/20\n",
      "1/1 [==============================] - 1s 721ms/step - loss: 0.0189 - accuracy: 1.0000\n"
     ]
    },
    {
     "data": {
      "text/plain": [
       "<keras.callbacks.History at 0x1ba7a67eeb0>"
      ]
     },
     "execution_count": 12,
     "metadata": {},
     "output_type": "execute_result"
    }
   ],
   "source": [
    "model.fit(X,y,epochs=20)"
   ]
  },
  {
   "cell_type": "code",
   "execution_count": null,
   "id": "ee3cd8ad",
   "metadata": {},
   "outputs": [],
   "source": [
    "X_test = np.zeros((4,300,300)) \n",
    "load_data(r\"C:\\Users\\local1\\sarvghad visualizations\\positive_test\",X_test)\n",
    "load_data(r\"C:\\Users\\local1\\sarvghad visualizations\\negative_test\",X_test)\n",
    "y_test = [1,1,1,1,1,\n",
    "          0,0,0,0,0\n",
    "         ]\n",
    "y_test=np.array(y_test)"
   ]
  },
  {
   "cell_type": "code",
   "execution_count": null,
   "id": "5e454aab",
   "metadata": {},
   "outputs": [
    {
     "name": "stdout",
     "output_type": "stream",
     "text": [
      "1/1 [==============================] - 0s 336ms/step\n",
      "[[1.        ]\n",
      " [1.        ]\n",
      " [0.00255014]\n",
      " [0.00255014]]\n"
     ]
    }
   ],
   "source": [
    "a= model.predict(X_test)\n",
    "print(a) #should be 1, 1, 0, 0"
   ]
  }
 ],
 "metadata": {
  "kernelspec": {
   "display_name": "Python 3 (ipykernel)",
   "language": "python",
   "name": "python3"
  },
  "language_info": {
   "codemirror_mode": {
    "name": "ipython",
    "version": 3
   },
   "file_extension": ".py",
   "mimetype": "text/x-python",
   "name": "python",
   "nbconvert_exporter": "python",
   "pygments_lexer": "ipython3",
   "version": "3.9.13"
  }
 },
 "nbformat": 4,
 "nbformat_minor": 5
}
